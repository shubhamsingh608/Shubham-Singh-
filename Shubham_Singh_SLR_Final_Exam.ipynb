{
 "cells": [
  {
   "cell_type": "code",
   "execution_count": 1,
   "metadata": {},
   "outputs": [],
   "source": [
    "import pandas as pd\n",
    "import numpy as np\n",
    "import matplotlib.pyplot as plt\n",
    "import seaborn as sns\n",
    "# Sklearn model delection\n",
    "from sklearn.model_selection import RandomizedSearchCV\n",
    "# Sklearn metrics\n",
    "from sklearn.metrics import mean_squared_error, mean_absolute_error, mean_squared_log_error\n",
    "# Sklearn models\n",
    "from sklearn.linear_model import Lasso, ElasticNet, Ridge, SGDRegressor\n",
    "from sklearn.svm import SVR, NuSVR\n",
    "from sklearn.ensemble import BaggingRegressor, RandomForestRegressor\n",
    "from sklearn.neighbors import KNeighborsClassifier\n",
    "from sklearn.cluster import KMeans\n",
    "\n",
    "from sklearn.ensemble import RandomForestClassifier\n",
    "from sklearn.ensemble import GradientBoostingRegressor\n",
    "\n",
    "from sklearn.linear_model import LinearRegression\n",
    "\n"
   ]
  },
  {
   "cell_type": "markdown",
   "metadata": {},
   "source": [
    "# 1.Read the Data "
   ]
  },
  {
   "cell_type": "code",
   "execution_count": 2,
   "metadata": {},
   "outputs": [],
   "source": [
    "df=pd.read_excel('kc-house-data-mini.xlsx')"
   ]
  },
  {
   "cell_type": "markdown",
   "metadata": {},
   "source": [
    "# 2.Summarize the important observations from the dataset"
   ]
  },
  {
   "cell_type": "code",
   "execution_count": 3,
   "metadata": {},
   "outputs": [
    {
     "data": {
      "text/html": [
       "<div>\n",
       "<style scoped>\n",
       "    .dataframe tbody tr th:only-of-type {\n",
       "        vertical-align: middle;\n",
       "    }\n",
       "\n",
       "    .dataframe tbody tr th {\n",
       "        vertical-align: top;\n",
       "    }\n",
       "\n",
       "    .dataframe thead th {\n",
       "        text-align: right;\n",
       "    }\n",
       "</style>\n",
       "<table border=\"1\" class=\"dataframe\">\n",
       "  <thead>\n",
       "    <tr style=\"text-align: right;\">\n",
       "      <th></th>\n",
       "      <th>id</th>\n",
       "      <th>date</th>\n",
       "      <th>price</th>\n",
       "      <th>bedrooms</th>\n",
       "      <th>bathrooms</th>\n",
       "      <th>sqft_living</th>\n",
       "      <th>sqft_lot</th>\n",
       "      <th>floors</th>\n",
       "      <th>waterfront</th>\n",
       "      <th>view</th>\n",
       "      <th>...</th>\n",
       "      <th>grade</th>\n",
       "      <th>sqft_above</th>\n",
       "      <th>sqft_basement</th>\n",
       "      <th>yr_built</th>\n",
       "      <th>yr_renovated</th>\n",
       "      <th>zipcode</th>\n",
       "      <th>lat</th>\n",
       "      <th>long</th>\n",
       "      <th>sqft_living15</th>\n",
       "      <th>sqft_lot15</th>\n",
       "    </tr>\n",
       "  </thead>\n",
       "  <tbody>\n",
       "    <tr>\n",
       "      <th>0</th>\n",
       "      <td>2068000270</td>\n",
       "      <td>20140805T000000</td>\n",
       "      <td>1400000</td>\n",
       "      <td>5</td>\n",
       "      <td>3.0</td>\n",
       "      <td>3850</td>\n",
       "      <td>14990</td>\n",
       "      <td>1.0</td>\n",
       "      <td>0</td>\n",
       "      <td>0</td>\n",
       "      <td>...</td>\n",
       "      <td>9</td>\n",
       "      <td>2290</td>\n",
       "      <td>1560</td>\n",
       "      <td>1964</td>\n",
       "      <td>0</td>\n",
       "      <td>98004</td>\n",
       "      <td>47.6425</td>\n",
       "      <td>-122.218</td>\n",
       "      <td>3010</td>\n",
       "      <td>15001</td>\n",
       "    </tr>\n",
       "    <tr>\n",
       "      <th>1</th>\n",
       "      <td>7732500700</td>\n",
       "      <td>20141126T000000</td>\n",
       "      <td>832500</td>\n",
       "      <td>4</td>\n",
       "      <td>2.5</td>\n",
       "      <td>3450</td>\n",
       "      <td>35100</td>\n",
       "      <td>2.0</td>\n",
       "      <td>0</td>\n",
       "      <td>0</td>\n",
       "      <td>...</td>\n",
       "      <td>10</td>\n",
       "      <td>3450</td>\n",
       "      <td>0</td>\n",
       "      <td>1987</td>\n",
       "      <td>0</td>\n",
       "      <td>98052</td>\n",
       "      <td>47.7302</td>\n",
       "      <td>-122.106</td>\n",
       "      <td>3110</td>\n",
       "      <td>35894</td>\n",
       "    </tr>\n",
       "    <tr>\n",
       "      <th>2</th>\n",
       "      <td>7851990240</td>\n",
       "      <td>20140717T000000</td>\n",
       "      <td>771150</td>\n",
       "      <td>4</td>\n",
       "      <td>3.5</td>\n",
       "      <td>3950</td>\n",
       "      <td>12320</td>\n",
       "      <td>2.0</td>\n",
       "      <td>0</td>\n",
       "      <td>0</td>\n",
       "      <td>...</td>\n",
       "      <td>10</td>\n",
       "      <td>3950</td>\n",
       "      <td>0</td>\n",
       "      <td>2001</td>\n",
       "      <td>0</td>\n",
       "      <td>98065</td>\n",
       "      <td>47.5414</td>\n",
       "      <td>-121.869</td>\n",
       "      <td>3920</td>\n",
       "      <td>11086</td>\n",
       "    </tr>\n",
       "    <tr>\n",
       "      <th>3</th>\n",
       "      <td>3423049269</td>\n",
       "      <td>20140513T000000</td>\n",
       "      <td>225000</td>\n",
       "      <td>4</td>\n",
       "      <td>1.5</td>\n",
       "      <td>1950</td>\n",
       "      <td>12559</td>\n",
       "      <td>1.5</td>\n",
       "      <td>0</td>\n",
       "      <td>0</td>\n",
       "      <td>...</td>\n",
       "      <td>6</td>\n",
       "      <td>1950</td>\n",
       "      <td>0</td>\n",
       "      <td>1939</td>\n",
       "      <td>0</td>\n",
       "      <td>98188</td>\n",
       "      <td>47.4364</td>\n",
       "      <td>-122.282</td>\n",
       "      <td>1950</td>\n",
       "      <td>9178</td>\n",
       "    </tr>\n",
       "    <tr>\n",
       "      <th>4</th>\n",
       "      <td>7852150200</td>\n",
       "      <td>20140923T000000</td>\n",
       "      <td>389950</td>\n",
       "      <td>3</td>\n",
       "      <td>2.5</td>\n",
       "      <td>1700</td>\n",
       "      <td>6396</td>\n",
       "      <td>2.0</td>\n",
       "      <td>0</td>\n",
       "      <td>0</td>\n",
       "      <td>...</td>\n",
       "      <td>7</td>\n",
       "      <td>1700</td>\n",
       "      <td>0</td>\n",
       "      <td>2003</td>\n",
       "      <td>0</td>\n",
       "      <td>98065</td>\n",
       "      <td>47.5333</td>\n",
       "      <td>-121.870</td>\n",
       "      <td>1700</td>\n",
       "      <td>4444</td>\n",
       "    </tr>\n",
       "  </tbody>\n",
       "</table>\n",
       "<p>5 rows × 21 columns</p>\n",
       "</div>"
      ],
      "text/plain": [
       "           id             date    price  bedrooms  bathrooms  sqft_living  \\\n",
       "0  2068000270  20140805T000000  1400000         5        3.0         3850   \n",
       "1  7732500700  20141126T000000   832500         4        2.5         3450   \n",
       "2  7851990240  20140717T000000   771150         4        3.5         3950   \n",
       "3  3423049269  20140513T000000   225000         4        1.5         1950   \n",
       "4  7852150200  20140923T000000   389950         3        2.5         1700   \n",
       "\n",
       "   sqft_lot  floors  waterfront  view  ...  grade  sqft_above  sqft_basement  \\\n",
       "0     14990     1.0           0     0  ...      9        2290           1560   \n",
       "1     35100     2.0           0     0  ...     10        3450              0   \n",
       "2     12320     2.0           0     0  ...     10        3950              0   \n",
       "3     12559     1.5           0     0  ...      6        1950              0   \n",
       "4      6396     2.0           0     0  ...      7        1700              0   \n",
       "\n",
       "   yr_built  yr_renovated  zipcode      lat     long  sqft_living15  \\\n",
       "0      1964             0    98004  47.6425 -122.218           3010   \n",
       "1      1987             0    98052  47.7302 -122.106           3110   \n",
       "2      2001             0    98065  47.5414 -121.869           3920   \n",
       "3      1939             0    98188  47.4364 -122.282           1950   \n",
       "4      2003             0    98065  47.5333 -121.870           1700   \n",
       "\n",
       "   sqft_lot15  \n",
       "0       15001  \n",
       "1       35894  \n",
       "2       11086  \n",
       "3        9178  \n",
       "4        4444  \n",
       "\n",
       "[5 rows x 21 columns]"
      ]
     },
     "execution_count": 3,
     "metadata": {},
     "output_type": "execute_result"
    }
   ],
   "source": [
    "df.head()"
   ]
  },
  {
   "cell_type": "raw",
   "metadata": {},
   "source": [
    "there are total 2001 rows and 21 columns"
   ]
  },
  {
   "cell_type": "code",
   "execution_count": 4,
   "metadata": {},
   "outputs": [
    {
     "name": "stdout",
     "output_type": "stream",
     "text": [
      "<class 'pandas.core.frame.DataFrame'>\n",
      "RangeIndex: 2001 entries, 0 to 2000\n",
      "Data columns (total 21 columns):\n",
      "id               2001 non-null int64\n",
      "date             2001 non-null object\n",
      "price            2001 non-null int64\n",
      "bedrooms         2001 non-null int64\n",
      "bathrooms        2001 non-null float64\n",
      "sqft_living      2001 non-null int64\n",
      "sqft_lot         2001 non-null int64\n",
      "floors           2001 non-null float64\n",
      "waterfront       2001 non-null int64\n",
      "view             2001 non-null int64\n",
      "condition        2001 non-null int64\n",
      "grade            2001 non-null int64\n",
      "sqft_above       2001 non-null int64\n",
      "sqft_basement    2001 non-null int64\n",
      "yr_built         2001 non-null int64\n",
      "yr_renovated     2001 non-null int64\n",
      "zipcode          2001 non-null int64\n",
      "lat              2001 non-null float64\n",
      "long             2001 non-null float64\n",
      "sqft_living15    2001 non-null int64\n",
      "sqft_lot15       2001 non-null int64\n",
      "dtypes: float64(4), int64(16), object(1)\n",
      "memory usage: 328.4+ KB\n"
     ]
    }
   ],
   "source": [
    "df.info()"
   ]
  },
  {
   "cell_type": "raw",
   "metadata": {},
   "source": [
    "this shows the types of variables"
   ]
  },
  {
   "cell_type": "code",
   "execution_count": 5,
   "metadata": {},
   "outputs": [
    {
     "data": {
      "text/plain": [
       "id               0\n",
       "date             0\n",
       "price            0\n",
       "bedrooms         0\n",
       "bathrooms        0\n",
       "sqft_living      0\n",
       "sqft_lot         0\n",
       "floors           0\n",
       "waterfront       0\n",
       "view             0\n",
       "condition        0\n",
       "grade            0\n",
       "sqft_above       0\n",
       "sqft_basement    0\n",
       "yr_built         0\n",
       "yr_renovated     0\n",
       "zipcode          0\n",
       "lat              0\n",
       "long             0\n",
       "sqft_living15    0\n",
       "sqft_lot15       0\n",
       "dtype: int64"
      ]
     },
     "execution_count": 5,
     "metadata": {},
     "output_type": "execute_result"
    }
   ],
   "source": [
    "df.isnull().sum()"
   ]
  },
  {
   "cell_type": "code",
   "execution_count": 6,
   "metadata": {},
   "outputs": [
    {
     "data": {
      "text/plain": [
       "Index(['id', 'date', 'price', 'bedrooms', 'bathrooms', 'sqft_living',\n",
       "       'sqft_lot', 'floors', 'waterfront', 'view', 'condition', 'grade',\n",
       "       'sqft_above', 'sqft_basement', 'yr_built', 'yr_renovated', 'zipcode',\n",
       "       'lat', 'long', 'sqft_living15', 'sqft_lot15'],\n",
       "      dtype='object')"
      ]
     },
     "execution_count": 6,
     "metadata": {},
     "output_type": "execute_result"
    }
   ],
   "source": [
    "df.columns"
   ]
  },
  {
   "cell_type": "code",
   "execution_count": 7,
   "metadata": {},
   "outputs": [
    {
     "data": {
      "text/html": [
       "<div>\n",
       "<style scoped>\n",
       "    .dataframe tbody tr th:only-of-type {\n",
       "        vertical-align: middle;\n",
       "    }\n",
       "\n",
       "    .dataframe tbody tr th {\n",
       "        vertical-align: top;\n",
       "    }\n",
       "\n",
       "    .dataframe thead th {\n",
       "        text-align: right;\n",
       "    }\n",
       "</style>\n",
       "<table border=\"1\" class=\"dataframe\">\n",
       "  <thead>\n",
       "    <tr style=\"text-align: right;\">\n",
       "      <th></th>\n",
       "      <th>id</th>\n",
       "      <th>price</th>\n",
       "      <th>bedrooms</th>\n",
       "      <th>bathrooms</th>\n",
       "      <th>sqft_living</th>\n",
       "      <th>sqft_lot</th>\n",
       "      <th>floors</th>\n",
       "      <th>waterfront</th>\n",
       "      <th>view</th>\n",
       "      <th>condition</th>\n",
       "      <th>grade</th>\n",
       "      <th>sqft_above</th>\n",
       "      <th>sqft_basement</th>\n",
       "      <th>yr_built</th>\n",
       "      <th>yr_renovated</th>\n",
       "      <th>zipcode</th>\n",
       "      <th>lat</th>\n",
       "      <th>long</th>\n",
       "      <th>sqft_living15</th>\n",
       "      <th>sqft_lot15</th>\n",
       "    </tr>\n",
       "  </thead>\n",
       "  <tbody>\n",
       "    <tr>\n",
       "      <th>count</th>\n",
       "      <td>2.001000e+03</td>\n",
       "      <td>2.001000e+03</td>\n",
       "      <td>2001.000000</td>\n",
       "      <td>2001.000000</td>\n",
       "      <td>2001.000000</td>\n",
       "      <td>2001.000000</td>\n",
       "      <td>2001.000000</td>\n",
       "      <td>2001.000000</td>\n",
       "      <td>2001.000000</td>\n",
       "      <td>2001.000000</td>\n",
       "      <td>2001.000000</td>\n",
       "      <td>2001.000000</td>\n",
       "      <td>2001.000000</td>\n",
       "      <td>2001.000000</td>\n",
       "      <td>2001.000000</td>\n",
       "      <td>2001.000000</td>\n",
       "      <td>2001.000000</td>\n",
       "      <td>2001.000000</td>\n",
       "      <td>2001.000000</td>\n",
       "      <td>2001.000000</td>\n",
       "    </tr>\n",
       "    <tr>\n",
       "      <th>mean</th>\n",
       "      <td>4.590975e+09</td>\n",
       "      <td>5.295997e+05</td>\n",
       "      <td>3.347326</td>\n",
       "      <td>2.036982</td>\n",
       "      <td>2037.556222</td>\n",
       "      <td>17846.464268</td>\n",
       "      <td>1.423788</td>\n",
       "      <td>0.004998</td>\n",
       "      <td>0.250375</td>\n",
       "      <td>3.449775</td>\n",
       "      <td>7.560220</td>\n",
       "      <td>1728.725637</td>\n",
       "      <td>308.830585</td>\n",
       "      <td>1966.890055</td>\n",
       "      <td>84.676162</td>\n",
       "      <td>98079.052474</td>\n",
       "      <td>47.561350</td>\n",
       "      <td>-122.215569</td>\n",
       "      <td>1956.869065</td>\n",
       "      <td>15241.781109</td>\n",
       "    </tr>\n",
       "    <tr>\n",
       "      <th>std</th>\n",
       "      <td>2.888947e+09</td>\n",
       "      <td>3.437001e+05</td>\n",
       "      <td>0.905982</td>\n",
       "      <td>0.753579</td>\n",
       "      <td>896.279579</td>\n",
       "      <td>47218.111461</td>\n",
       "      <td>0.501312</td>\n",
       "      <td>0.070534</td>\n",
       "      <td>0.807949</td>\n",
       "      <td>0.678676</td>\n",
       "      <td>1.154771</td>\n",
       "      <td>790.018690</td>\n",
       "      <td>459.259858</td>\n",
       "      <td>27.893851</td>\n",
       "      <td>402.134842</td>\n",
       "      <td>53.819947</td>\n",
       "      <td>0.137556</td>\n",
       "      <td>0.141858</td>\n",
       "      <td>673.478504</td>\n",
       "      <td>35224.009024</td>\n",
       "    </tr>\n",
       "    <tr>\n",
       "      <th>min</th>\n",
       "      <td>1.120040e+07</td>\n",
       "      <td>8.650000e+04</td>\n",
       "      <td>0.000000</td>\n",
       "      <td>0.500000</td>\n",
       "      <td>470.000000</td>\n",
       "      <td>844.000000</td>\n",
       "      <td>1.000000</td>\n",
       "      <td>0.000000</td>\n",
       "      <td>0.000000</td>\n",
       "      <td>1.000000</td>\n",
       "      <td>4.000000</td>\n",
       "      <td>470.000000</td>\n",
       "      <td>0.000000</td>\n",
       "      <td>1900.000000</td>\n",
       "      <td>0.000000</td>\n",
       "      <td>98001.000000</td>\n",
       "      <td>47.162200</td>\n",
       "      <td>-122.519000</td>\n",
       "      <td>399.000000</td>\n",
       "      <td>980.000000</td>\n",
       "    </tr>\n",
       "    <tr>\n",
       "      <th>25%</th>\n",
       "      <td>2.114700e+09</td>\n",
       "      <td>3.170000e+05</td>\n",
       "      <td>3.000000</td>\n",
       "      <td>1.500000</td>\n",
       "      <td>1410.000000</td>\n",
       "      <td>5478.000000</td>\n",
       "      <td>1.000000</td>\n",
       "      <td>0.000000</td>\n",
       "      <td>0.000000</td>\n",
       "      <td>3.000000</td>\n",
       "      <td>7.000000</td>\n",
       "      <td>1160.000000</td>\n",
       "      <td>0.000000</td>\n",
       "      <td>1949.000000</td>\n",
       "      <td>0.000000</td>\n",
       "      <td>98033.000000</td>\n",
       "      <td>47.475800</td>\n",
       "      <td>-122.331000</td>\n",
       "      <td>1460.000000</td>\n",
       "      <td>5325.000000</td>\n",
       "    </tr>\n",
       "    <tr>\n",
       "      <th>50%</th>\n",
       "      <td>3.971701e+09</td>\n",
       "      <td>4.500000e+05</td>\n",
       "      <td>3.000000</td>\n",
       "      <td>2.000000</td>\n",
       "      <td>1890.000000</td>\n",
       "      <td>7919.000000</td>\n",
       "      <td>1.000000</td>\n",
       "      <td>0.000000</td>\n",
       "      <td>0.000000</td>\n",
       "      <td>3.000000</td>\n",
       "      <td>7.000000</td>\n",
       "      <td>1520.000000</td>\n",
       "      <td>0.000000</td>\n",
       "      <td>1969.000000</td>\n",
       "      <td>0.000000</td>\n",
       "      <td>98070.000000</td>\n",
       "      <td>47.573400</td>\n",
       "      <td>-122.233000</td>\n",
       "      <td>1820.000000</td>\n",
       "      <td>7800.000000</td>\n",
       "    </tr>\n",
       "    <tr>\n",
       "      <th>75%</th>\n",
       "      <td>7.346600e+09</td>\n",
       "      <td>6.295000e+05</td>\n",
       "      <td>4.000000</td>\n",
       "      <td>2.500000</td>\n",
       "      <td>2470.000000</td>\n",
       "      <td>11085.000000</td>\n",
       "      <td>2.000000</td>\n",
       "      <td>0.000000</td>\n",
       "      <td>0.000000</td>\n",
       "      <td>4.000000</td>\n",
       "      <td>8.000000</td>\n",
       "      <td>2130.000000</td>\n",
       "      <td>600.000000</td>\n",
       "      <td>1989.000000</td>\n",
       "      <td>0.000000</td>\n",
       "      <td>98118.000000</td>\n",
       "      <td>47.677500</td>\n",
       "      <td>-122.126000</td>\n",
       "      <td>2300.000000</td>\n",
       "      <td>10236.000000</td>\n",
       "    </tr>\n",
       "    <tr>\n",
       "      <th>max</th>\n",
       "      <td>9.839301e+09</td>\n",
       "      <td>4.208000e+06</td>\n",
       "      <td>10.000000</td>\n",
       "      <td>8.000000</td>\n",
       "      <td>13540.000000</td>\n",
       "      <td>715690.000000</td>\n",
       "      <td>3.000000</td>\n",
       "      <td>1.000000</td>\n",
       "      <td>4.000000</td>\n",
       "      <td>5.000000</td>\n",
       "      <td>13.000000</td>\n",
       "      <td>9410.000000</td>\n",
       "      <td>4130.000000</td>\n",
       "      <td>2014.000000</td>\n",
       "      <td>2015.000000</td>\n",
       "      <td>98199.000000</td>\n",
       "      <td>47.777500</td>\n",
       "      <td>-121.316000</td>\n",
       "      <td>5500.000000</td>\n",
       "      <td>560617.000000</td>\n",
       "    </tr>\n",
       "  </tbody>\n",
       "</table>\n",
       "</div>"
      ],
      "text/plain": [
       "                 id         price     bedrooms    bathrooms   sqft_living  \\\n",
       "count  2.001000e+03  2.001000e+03  2001.000000  2001.000000   2001.000000   \n",
       "mean   4.590975e+09  5.295997e+05     3.347326     2.036982   2037.556222   \n",
       "std    2.888947e+09  3.437001e+05     0.905982     0.753579    896.279579   \n",
       "min    1.120040e+07  8.650000e+04     0.000000     0.500000    470.000000   \n",
       "25%    2.114700e+09  3.170000e+05     3.000000     1.500000   1410.000000   \n",
       "50%    3.971701e+09  4.500000e+05     3.000000     2.000000   1890.000000   \n",
       "75%    7.346600e+09  6.295000e+05     4.000000     2.500000   2470.000000   \n",
       "max    9.839301e+09  4.208000e+06    10.000000     8.000000  13540.000000   \n",
       "\n",
       "            sqft_lot       floors   waterfront         view    condition  \\\n",
       "count    2001.000000  2001.000000  2001.000000  2001.000000  2001.000000   \n",
       "mean    17846.464268     1.423788     0.004998     0.250375     3.449775   \n",
       "std     47218.111461     0.501312     0.070534     0.807949     0.678676   \n",
       "min       844.000000     1.000000     0.000000     0.000000     1.000000   \n",
       "25%      5478.000000     1.000000     0.000000     0.000000     3.000000   \n",
       "50%      7919.000000     1.000000     0.000000     0.000000     3.000000   \n",
       "75%     11085.000000     2.000000     0.000000     0.000000     4.000000   \n",
       "max    715690.000000     3.000000     1.000000     4.000000     5.000000   \n",
       "\n",
       "             grade   sqft_above  sqft_basement     yr_built  yr_renovated  \\\n",
       "count  2001.000000  2001.000000    2001.000000  2001.000000   2001.000000   \n",
       "mean      7.560220  1728.725637     308.830585  1966.890055     84.676162   \n",
       "std       1.154771   790.018690     459.259858    27.893851    402.134842   \n",
       "min       4.000000   470.000000       0.000000  1900.000000      0.000000   \n",
       "25%       7.000000  1160.000000       0.000000  1949.000000      0.000000   \n",
       "50%       7.000000  1520.000000       0.000000  1969.000000      0.000000   \n",
       "75%       8.000000  2130.000000     600.000000  1989.000000      0.000000   \n",
       "max      13.000000  9410.000000    4130.000000  2014.000000   2015.000000   \n",
       "\n",
       "            zipcode          lat         long  sqft_living15     sqft_lot15  \n",
       "count   2001.000000  2001.000000  2001.000000    2001.000000    2001.000000  \n",
       "mean   98079.052474    47.561350  -122.215569    1956.869065   15241.781109  \n",
       "std       53.819947     0.137556     0.141858     673.478504   35224.009024  \n",
       "min    98001.000000    47.162200  -122.519000     399.000000     980.000000  \n",
       "25%    98033.000000    47.475800  -122.331000    1460.000000    5325.000000  \n",
       "50%    98070.000000    47.573400  -122.233000    1820.000000    7800.000000  \n",
       "75%    98118.000000    47.677500  -122.126000    2300.000000   10236.000000  \n",
       "max    98199.000000    47.777500  -121.316000    5500.000000  560617.000000  "
      ]
     },
     "execution_count": 7,
     "metadata": {},
     "output_type": "execute_result"
    }
   ],
   "source": [
    "df[['id', 'price', 'bedrooms', 'bathrooms', 'sqft_living',\n",
    "       'sqft_lot', 'floors', 'waterfront', 'view', 'condition', 'grade',\n",
    "       'sqft_above', 'sqft_basement', 'yr_built', 'yr_renovated', 'zipcode',\n",
    "       'lat', 'long', 'sqft_living15', 'sqft_lot15']].describe()"
   ]
  },
  {
   "cell_type": "raw",
   "metadata": {},
   "source": [
    "this is the statistical summary for numerical variables"
   ]
  },
  {
   "cell_type": "code",
   "execution_count": 8,
   "metadata": {},
   "outputs": [
    {
     "data": {
      "image/png": "[encoded data removed]",
      "text/plain": [
       "<Figure size 432x288 with 1 Axes>"
      ]
     },
     "metadata": {
      "needs_background": "light"
     },
     "output_type": "display_data"
    }
   ],
   "source": [
    "sns.countplot(df['bedrooms'])\n",
    "plt.show()"
   ]
  },
  {
   "cell_type": "raw",
   "metadata": {},
   "source": [
    "3 is the most commonly category of bedroom found in the city"
   ]
  },
  {
   "cell_type": "markdown",
   "metadata": {},
   "source": [
    "# Summarize the relationship among variables"
   ]
  },
  {
   "cell_type": "code",
   "execution_count": 9,
   "metadata": {},
   "outputs": [],
   "source": [
    "df['date']=pd.to_datetime(df['date'])\n",
    "df['date']=df['date'].dt.day"
   ]
  },
  {
   "cell_type": "code",
   "execution_count": 10,
   "metadata": {},
   "outputs": [
    {
     "data": {
      "text/html": [
       "<div>\n",
       "<style scoped>\n",
       "    .dataframe tbody tr th:only-of-type {\n",
       "        vertical-align: middle;\n",
       "    }\n",
       "\n",
       "    .dataframe tbody tr th {\n",
       "        vertical-align: top;\n",
       "    }\n",
       "\n",
       "    .dataframe thead th {\n",
       "        text-align: right;\n",
       "    }\n",
       "</style>\n",
       "<table border=\"1\" class=\"dataframe\">\n",
       "  <thead>\n",
       "    <tr style=\"text-align: right;\">\n",
       "      <th></th>\n",
       "      <th>id</th>\n",
       "      <th>date</th>\n",
       "      <th>price</th>\n",
       "      <th>bedrooms</th>\n",
       "      <th>bathrooms</th>\n",
       "      <th>sqft_living</th>\n",
       "      <th>sqft_lot</th>\n",
       "      <th>floors</th>\n",
       "      <th>waterfront</th>\n",
       "      <th>view</th>\n",
       "      <th>...</th>\n",
       "      <th>grade</th>\n",
       "      <th>sqft_above</th>\n",
       "      <th>sqft_basement</th>\n",
       "      <th>yr_built</th>\n",
       "      <th>yr_renovated</th>\n",
       "      <th>zipcode</th>\n",
       "      <th>lat</th>\n",
       "      <th>long</th>\n",
       "      <th>sqft_living15</th>\n",
       "      <th>sqft_lot15</th>\n",
       "    </tr>\n",
       "  </thead>\n",
       "  <tbody>\n",
       "    <tr>\n",
       "      <th>0</th>\n",
       "      <td>2068000270</td>\n",
       "      <td>5</td>\n",
       "      <td>1400000</td>\n",
       "      <td>5</td>\n",
       "      <td>3.0</td>\n",
       "      <td>3850</td>\n",
       "      <td>14990</td>\n",
       "      <td>1.0</td>\n",
       "      <td>0</td>\n",
       "      <td>0</td>\n",
       "      <td>...</td>\n",
       "      <td>9</td>\n",
       "      <td>2290</td>\n",
       "      <td>1560</td>\n",
       "      <td>1964</td>\n",
       "      <td>0</td>\n",
       "      <td>98004</td>\n",
       "      <td>47.6425</td>\n",
       "      <td>-122.218</td>\n",
       "      <td>3010</td>\n",
       "      <td>15001</td>\n",
       "    </tr>\n",
       "    <tr>\n",
       "      <th>1</th>\n",
       "      <td>7732500700</td>\n",
       "      <td>26</td>\n",
       "      <td>832500</td>\n",
       "      <td>4</td>\n",
       "      <td>2.5</td>\n",
       "      <td>3450</td>\n",
       "      <td>35100</td>\n",
       "      <td>2.0</td>\n",
       "      <td>0</td>\n",
       "      <td>0</td>\n",
       "      <td>...</td>\n",
       "      <td>10</td>\n",
       "      <td>3450</td>\n",
       "      <td>0</td>\n",
       "      <td>1987</td>\n",
       "      <td>0</td>\n",
       "      <td>98052</td>\n",
       "      <td>47.7302</td>\n",
       "      <td>-122.106</td>\n",
       "      <td>3110</td>\n",
       "      <td>35894</td>\n",
       "    </tr>\n",
       "    <tr>\n",
       "      <th>2</th>\n",
       "      <td>7851990240</td>\n",
       "      <td>17</td>\n",
       "      <td>771150</td>\n",
       "      <td>4</td>\n",
       "      <td>3.5</td>\n",
       "      <td>3950</td>\n",
       "      <td>12320</td>\n",
       "      <td>2.0</td>\n",
       "      <td>0</td>\n",
       "      <td>0</td>\n",
       "      <td>...</td>\n",
       "      <td>10</td>\n",
       "      <td>3950</td>\n",
       "      <td>0</td>\n",
       "      <td>2001</td>\n",
       "      <td>0</td>\n",
       "      <td>98065</td>\n",
       "      <td>47.5414</td>\n",
       "      <td>-121.869</td>\n",
       "      <td>3920</td>\n",
       "      <td>11086</td>\n",
       "    </tr>\n",
       "    <tr>\n",
       "      <th>3</th>\n",
       "      <td>3423049269</td>\n",
       "      <td>13</td>\n",
       "      <td>225000</td>\n",
       "      <td>4</td>\n",
       "      <td>1.5</td>\n",
       "      <td>1950</td>\n",
       "      <td>12559</td>\n",
       "      <td>1.5</td>\n",
       "      <td>0</td>\n",
       "      <td>0</td>\n",
       "      <td>...</td>\n",
       "      <td>6</td>\n",
       "      <td>1950</td>\n",
       "      <td>0</td>\n",
       "      <td>1939</td>\n",
       "      <td>0</td>\n",
       "      <td>98188</td>\n",
       "      <td>47.4364</td>\n",
       "      <td>-122.282</td>\n",
       "      <td>1950</td>\n",
       "      <td>9178</td>\n",
       "    </tr>\n",
       "    <tr>\n",
       "      <th>4</th>\n",
       "      <td>7852150200</td>\n",
       "      <td>23</td>\n",
       "      <td>389950</td>\n",
       "      <td>3</td>\n",
       "      <td>2.5</td>\n",
       "      <td>1700</td>\n",
       "      <td>6396</td>\n",
       "      <td>2.0</td>\n",
       "      <td>0</td>\n",
       "      <td>0</td>\n",
       "      <td>...</td>\n",
       "      <td>7</td>\n",
       "      <td>1700</td>\n",
       "      <td>0</td>\n",
       "      <td>2003</td>\n",
       "      <td>0</td>\n",
       "      <td>98065</td>\n",
       "      <td>47.5333</td>\n",
       "      <td>-121.870</td>\n",
       "      <td>1700</td>\n",
       "      <td>4444</td>\n",
       "    </tr>\n",
       "  </tbody>\n",
       "</table>\n",
       "<p>5 rows × 21 columns</p>\n",
       "</div>"
      ],
      "text/plain": [
       "           id  date    price  bedrooms  bathrooms  sqft_living  sqft_lot  \\\n",
       "0  2068000270     5  1400000         5        3.0         3850     14990   \n",
       "1  7732500700    26   832500         4        2.5         3450     35100   \n",
       "2  7851990240    17   771150         4        3.5         3950     12320   \n",
       "3  3423049269    13   225000         4        1.5         1950     12559   \n",
       "4  7852150200    23   389950         3        2.5         1700      6396   \n",
       "\n",
       "   floors  waterfront  view  ...  grade  sqft_above  sqft_basement  yr_built  \\\n",
       "0     1.0           0     0  ...      9        2290           1560      1964   \n",
       "1     2.0           0     0  ...     10        3450              0      1987   \n",
       "2     2.0           0     0  ...     10        3950              0      2001   \n",
       "3     1.5           0     0  ...      6        1950              0      1939   \n",
       "4     2.0           0     0  ...      7        1700              0      2003   \n",
       "\n",
       "   yr_renovated  zipcode      lat     long  sqft_living15  sqft_lot15  \n",
       "0             0    98004  47.6425 -122.218           3010       15001  \n",
       "1             0    98052  47.7302 -122.106           3110       35894  \n",
       "2             0    98065  47.5414 -121.869           3920       11086  \n",
       "3             0    98188  47.4364 -122.282           1950        9178  \n",
       "4             0    98065  47.5333 -121.870           1700        4444  \n",
       "\n",
       "[5 rows x 21 columns]"
      ]
     },
     "execution_count": 10,
     "metadata": {},
     "output_type": "execute_result"
    }
   ],
   "source": [
    "df.head()"
   ]
  },
  {
   "cell_type": "code",
   "execution_count": 11,
   "metadata": {},
   "outputs": [
    {
     "data": {
      "text/plain": [
       "<matplotlib.axes._subplots.AxesSubplot at 0x1efc52f9160>"
      ]
     },
     "execution_count": 11,
     "metadata": {},
     "output_type": "execute_result"
    },
    {
     "data": {
      "image/png": "[encoded data removed]",
      "text/plain": [
       "<Figure size 1080x360 with 2 Axes>"
      ]
     },
     "metadata": {
      "needs_background": "light"
     },
     "output_type": "display_data"
    }
   ],
   "source": [
    "plt.figure(figsize=(15,5))\n",
    "sns.heatmap(df.corr(),annot=True,cmap=\"Reds\")"
   ]
  },
  {
   "cell_type": "raw",
   "metadata": {},
   "source": [
    "this heatmap shows the correlation between target and the other variables\n"
   ]
  },
  {
   "cell_type": "markdown",
   "metadata": {},
   "source": [
    "# 4.Check the defects in data and perform the action"
   ]
  },
  {
   "cell_type": "code",
   "execution_count": null,
   "metadata": {},
   "outputs": [],
   "source": []
  },
  {
   "cell_type": "code",
   "execution_count": 12,
   "metadata": {},
   "outputs": [
    {
     "data": {
      "text/plain": [
       "id               0\n",
       "date             0\n",
       "price            0\n",
       "bedrooms         0\n",
       "bathrooms        0\n",
       "sqft_living      0\n",
       "sqft_lot         0\n",
       "floors           0\n",
       "waterfront       0\n",
       "view             0\n",
       "condition        0\n",
       "grade            0\n",
       "sqft_above       0\n",
       "sqft_basement    0\n",
       "yr_built         0\n",
       "yr_renovated     0\n",
       "zipcode          0\n",
       "lat              0\n",
       "long             0\n",
       "sqft_living15    0\n",
       "sqft_lot15       0\n",
       "dtype: int64"
      ]
     },
     "execution_count": 12,
     "metadata": {},
     "output_type": "execute_result"
    }
   ],
   "source": [
    "df.isnull().sum()"
   ]
  },
  {
   "cell_type": "raw",
   "metadata": {},
   "source": [
    "no this data does not have any null values"
   ]
  },
  {
   "cell_type": "code",
   "execution_count": 13,
   "metadata": {},
   "outputs": [
    {
     "data": {
      "text/plain": [
       "Index(['id', 'date', 'price', 'bedrooms', 'bathrooms', 'sqft_living',\n",
       "       'sqft_lot', 'floors', 'waterfront', 'view', 'condition', 'grade',\n",
       "       'sqft_above', 'sqft_basement', 'yr_built', 'yr_renovated', 'zipcode',\n",
       "       'lat', 'long', 'sqft_living15', 'sqft_lot15'],\n",
       "      dtype='object')"
      ]
     },
     "execution_count": 13,
     "metadata": {},
     "output_type": "execute_result"
    }
   ],
   "source": [
    "df.columns"
   ]
  },
  {
   "cell_type": "code",
   "execution_count": 14,
   "metadata": {},
   "outputs": [
    {
     "data": {
      "image/png": "[encoded data removed]",
      "text/plain": [
       "<Figure size 432x288 with 1 Axes>"
      ]
     },
     "metadata": {
      "needs_background": "light"
     },
     "output_type": "display_data"
    },
    {
     "name": "stdout",
     "output_type": "stream",
     "text": [
      "Total outliers in id is 0\n"
     ]
    },
    {
     "data": {
      "image/png": "[encoded data removed]",
      "text/plain": [
       "<Figure size 432x288 with 1 Axes>"
      ]
     },
     "metadata": {
      "needs_background": "light"
     },
     "output_type": "display_data"
    },
    {
     "name": "stdout",
     "output_type": "stream",
     "text": [
      "Total outliers in date is 0\n"
     ]
    },
    {
     "data": {
      "image/png": "[encoded data removed]",
      "text/plain": [
       "<Figure size 432x288 with 1 Axes>"
      ]
     },
     "metadata": {
      "needs_background": "light"
     },
     "output_type": "display_data"
    },
    {
     "name": "stdout",
     "output_type": "stream",
     "text": [
      "Total outliers in price is 104\n"
     ]
    },
    {
     "data": {
      "image/png": "[encoded data removed]",
      "text/plain": [
       "<Figure size 432x288 with 1 Axes>"
      ]
     },
     "metadata": {
      "needs_background": "light"
     },
     "output_type": "display_data"
    },
    {
     "name": "stdout",
     "output_type": "stream",
     "text": [
      "Total outliers in bedrooms is 50\n"
     ]
    },
    {
     "data": {
      "image/png": "[encoded data removed]",
      "text/plain": [
       "<Figure size 432x288 with 1 Axes>"
      ]
     },
     "metadata": {
      "needs_background": "light"
     },
     "output_type": "display_data"
    },
    {
     "name": "stdout",
     "output_type": "stream",
     "text": [
      "Total outliers in bathrooms is 19\n"
     ]
    },
    {
     "data": {
      "image/png": "[encoded data removed]",
      "text/plain": [
       "<Figure size 432x288 with 1 Axes>"
      ]
     },
     "metadata": {
      "needs_background": "light"
     },
     "output_type": "display_data"
    },
    {
     "name": "stdout",
     "output_type": "stream",
     "text": [
      "Total outliers in sqft_living is 48\n"
     ]
    },
    {
     "data": {
      "image/png": "[encoded data removed]",
      "text/plain": [
       "<Figure size 432x288 with 1 Axes>"
      ]
     },
     "metadata": {
      "needs_background": "light"
     },
     "output_type": "display_data"
    },
    {
     "name": "stdout",
     "output_type": "stream",
     "text": [
      "Total outliers in sqft_lot is 250\n"
     ]
    },
    {
     "data": {
      "image/png": "[encoded data removed]",
      "text/plain": [
       "<Figure size 432x288 with 1 Axes>"
      ]
     },
     "metadata": {
      "needs_background": "light"
     },
     "output_type": "display_data"
    },
    {
     "name": "stdout",
     "output_type": "stream",
     "text": [
      "Total outliers in floors is 0\n"
     ]
    },
    {
     "data": {
      "image/png": "[encoded data removed]",
      "text/plain": [
       "<Figure size 432x288 with 1 Axes>"
      ]
     },
     "metadata": {
      "needs_background": "light"
     },
     "output_type": "display_data"
    },
    {
     "name": "stdout",
     "output_type": "stream",
     "text": [
      "Total outliers in waterfront is 10\n"
     ]
    },
    {
     "data": {
      "image/png": "[encoded data removed]",
      "text/plain": [
       "<Figure size 432x288 with 1 Axes>"
      ]
     },
     "metadata": {
      "needs_background": "light"
     },
     "output_type": "display_data"
    },
    {
     "name": "stdout",
     "output_type": "stream",
     "text": [
      "Total outliers in view is 199\n"
     ]
    },
    {
     "data": {
      "image/png": "[encoded data removed]",
      "text/plain": [
       "<Figure size 432x288 with 1 Axes>"
      ]
     },
     "metadata": {
      "needs_background": "light"
     },
     "output_type": "display_data"
    },
    {
     "name": "stdout",
     "output_type": "stream",
     "text": [
      "Total outliers in condition is 5\n"
     ]
    },
    {
     "data": {
      "image/png": "[encoded data removed]",
      "text/plain": [
       "<Figure size 432x288 with 1 Axes>"
      ]
     },
     "metadata": {
      "needs_background": "light"
     },
     "output_type": "display_data"
    },
    {
     "name": "stdout",
     "output_type": "stream",
     "text": [
      "Total outliers in grade is 168\n"
     ]
    },
    {
     "data": {
      "image/png": "[encoded data removed]",
      "text/plain": [
       "<Figure size 432x288 with 1 Axes>"
      ]
     },
     "metadata": {
      "needs_background": "light"
     },
     "output_type": "display_data"
    },
    {
     "name": "stdout",
     "output_type": "stream",
     "text": [
      "Total outliers in sqft_above is 52\n"
     ]
    },
    {
     "data": {
      "image/png": "[encoded data removed]",
      "text/plain": [
       "<Figure size 432x288 with 1 Axes>"
      ]
     },
     "metadata": {
      "needs_background": "light"
     },
     "output_type": "display_data"
    },
    {
     "name": "stdout",
     "output_type": "stream",
     "text": [
      "Total outliers in sqft_basement is 33\n"
     ]
    },
    {
     "data": {
      "image/png": "[encoded data removed]",
      "text/plain": [
       "<Figure size 432x288 with 1 Axes>"
      ]
     },
     "metadata": {
      "needs_background": "light"
     },
     "output_type": "display_data"
    },
    {
     "name": "stdout",
     "output_type": "stream",
     "text": [
      "Total outliers in yr_built is 0\n"
     ]
    },
    {
     "data": {
      "image/png": "[encoded data removed]",
      "text/plain": [
       "<Figure size 432x288 with 1 Axes>"
      ]
     },
     "metadata": {
      "needs_background": "light"
     },
     "output_type": "display_data"
    },
    {
     "name": "stdout",
     "output_type": "stream",
     "text": [
      "Total outliers in yr_renovated is 85\n"
     ]
    },
    {
     "data": {
      "image/png": "[encoded data removed]",
      "text/plain": [
       "<Figure size 432x288 with 1 Axes>"
      ]
     },
     "metadata": {
      "needs_background": "light"
     },
     "output_type": "display_data"
    },
    {
     "name": "stdout",
     "output_type": "stream",
     "text": [
      "Total outliers in zipcode is 0\n"
     ]
    },
    {
     "data": {
      "image/png": "[encoded data removed]",
      "text/plain": [
       "<Figure size 432x288 with 1 Axes>"
      ]
     },
     "metadata": {
      "needs_background": "light"
     },
     "output_type": "display_data"
    },
    {
     "name": "stdout",
     "output_type": "stream",
     "text": [
      "Total outliers in lat is 2\n"
     ]
    },
    {
     "data": {
      "image/png": "[encoded data removed]",
      "text/plain": [
       "<Figure size 432x288 with 1 Axes>"
      ]
     },
     "metadata": {
      "needs_background": "light"
     },
     "output_type": "display_data"
    },
    {
     "name": "stdout",
     "output_type": "stream",
     "text": [
      "Total outliers in long is 20\n"
     ]
    },
    {
     "data": {
      "image/png": "[encoded data removed]",
      "text/plain": [
       "<Figure size 432x288 with 1 Axes>"
      ]
     },
     "metadata": {
      "needs_background": "light"
     },
     "output_type": "display_data"
    },
    {
     "name": "stdout",
     "output_type": "stream",
     "text": [
      "Total outliers in sqft_living15 is 52\n"
     ]
    },
    {
     "data": {
      "image/png": "[encoded data removed]",
      "text/plain": [
       "<Figure size 432x288 with 1 Axes>"
      ]
     },
     "metadata": {
      "needs_background": "light"
     },
     "output_type": "display_data"
    },
    {
     "name": "stdout",
     "output_type": "stream",
     "text": [
      "Total outliers in sqft_lot15 is 230\n"
     ]
    },
    {
     "data": {
      "image/png": "[encoded data removed]",
      "text/plain": [
       "<Figure size 432x288 with 1 Axes>"
      ]
     },
     "metadata": {
      "needs_background": "light"
     },
     "output_type": "display_data"
    }
   ],
   "source": [
    "columns_names=['id', 'date', 'price', 'bedrooms', 'bathrooms', 'sqft_living',\n",
    "       'sqft_lot', 'floors', 'waterfront', 'view', 'condition', 'grade',\n",
    "       'sqft_above', 'sqft_basement', 'yr_built', 'yr_renovated', 'zipcode',\n",
    "       'lat', 'long', 'sqft_living15', 'sqft_lot15']\n",
    "for i in range(len(columns_names)):\n",
    "    name=columns_names[i]\n",
    "    q1=np.quantile(df[name],0.25)\n",
    "    q3=np.quantile(df[name],0.75)\n",
    "    iqr=q3-q1\n",
    "    ul=q3+1.5*iqr\n",
    "    ll=q1-1.5*iqr\n",
    "    sns.boxplot(df[name])\n",
    "    plt.show()\n",
    "    s='BoxPlot for'+' '+name\n",
    "    plt.xlabel(s,fontsize=10)\n",
    "    length=len(df[(df[name]<ll)|(df[name]>ul)])\n",
    "    print('Total outliers in',name,'is',length)"
   ]
  },
  {
   "cell_type": "raw",
   "metadata": {},
   "source": [
    "There are many outliers in the data.\n",
    "The found outliers are removed"
   ]
  },
  {
   "cell_type": "markdown",
   "metadata": {},
   "source": [
    "# 5.Splitting Data into Train Test Split"
   ]
  },
  {
   "cell_type": "code",
   "execution_count": 15,
   "metadata": {},
   "outputs": [],
   "source": [
    "X=df[['id', 'date', 'bedrooms', 'bathrooms', 'sqft_living',\n",
    "       'sqft_lot', 'floors', 'waterfront', 'view', 'condition', 'grade',\n",
    "       'sqft_above', 'sqft_basement', 'yr_built', 'yr_renovated', 'zipcode',\n",
    "       'lat', 'long', 'sqft_living15', 'sqft_lot15']]\n",
    "y=df.price"
   ]
  },
  {
   "cell_type": "code",
   "execution_count": 16,
   "metadata": {},
   "outputs": [
    {
     "name": "stdout",
     "output_type": "stream",
     "text": [
      "(2001, 20)\n",
      "(2001,)\n"
     ]
    }
   ],
   "source": [
    "print(X.shape)\n",
    "print(y.shape)"
   ]
  },
  {
   "cell_type": "code",
   "execution_count": 17,
   "metadata": {},
   "outputs": [],
   "source": [
    "from sklearn.model_selection import train_test_split "
   ]
  },
  {
   "cell_type": "code",
   "execution_count": 18,
   "metadata": {},
   "outputs": [],
   "source": [
    "X_train, X_test, y_train, y_test = train_test_split(X, y, test_size = 0.30, random_state = 0)"
   ]
  },
  {
   "cell_type": "code",
   "execution_count": 19,
   "metadata": {},
   "outputs": [],
   "source": [
    "## H0:Mean of train = Mean of test\n",
    "## H1:Mean of train!=Mean of test\n",
    "## cv=0.05"
   ]
  },
  {
   "cell_type": "code",
   "execution_count": 20,
   "metadata": {},
   "outputs": [],
   "source": [
    "import scipy.stats as stats"
   ]
  },
  {
   "cell_type": "code",
   "execution_count": 22,
   "metadata": {},
   "outputs": [],
   "source": [
    "tstat,pval=stats.ttest_ind(y_train,y_test)"
   ]
  },
  {
   "cell_type": "code",
   "execution_count": 23,
   "metadata": {},
   "outputs": [
    {
     "data": {
      "text/plain": [
       "1.9599639845400545"
      ]
     },
     "execution_count": 23,
     "metadata": {},
     "output_type": "execute_result"
    }
   ],
   "source": [
    "stats.norm.isf(0.05/2)"
   ]
  },
  {
   "cell_type": "code",
   "execution_count": 24,
   "metadata": {},
   "outputs": [
    {
     "data": {
      "text/plain": [
       "-1.4078351699338054"
      ]
     },
     "execution_count": 24,
     "metadata": {},
     "output_type": "execute_result"
    }
   ],
   "source": [
    "tstat"
   ]
  },
  {
   "cell_type": "code",
   "execution_count": 25,
   "metadata": {},
   "outputs": [
    {
     "name": "stdout",
     "output_type": "stream",
     "text": [
      "Fail to Reject Null Hypothesis\n"
     ]
    }
   ],
   "source": [
    "if 1.96>tstat>-1.96:\n",
    "    print('Fail to Reject Null Hypothesis')\n",
    "else:\n",
    "    print(\"Reject Null Hypothesis\")"
   ]
  },
  {
   "cell_type": "code",
   "execution_count": 26,
   "metadata": {},
   "outputs": [
    {
     "data": {
      "text/plain": [
       "0.159335368759133"
      ]
     },
     "execution_count": 26,
     "metadata": {},
     "output_type": "execute_result"
    }
   ],
   "source": [
    "pval"
   ]
  },
  {
   "cell_type": "markdown",
   "metadata": {},
   "source": [
    "# 6.Fitting a base model"
   ]
  },
  {
   "cell_type": "code",
   "execution_count": 27,
   "metadata": {},
   "outputs": [],
   "source": [
    "import statsmodels.api as sm"
   ]
  },
  {
   "cell_type": "code",
   "execution_count": 28,
   "metadata": {},
   "outputs": [
    {
     "name": "stderr",
     "output_type": "stream",
     "text": [
      "C:\\Users\\Shubham\\Anaconda3\\lib\\site-packages\\numpy\\core\\fromnumeric.py:2389: FutureWarning: Method .ptp is deprecated and will be removed in a future version. Use numpy.ptp instead.\n",
      "  return ptp(axis=axis, out=out, **kwargs)\n"
     ]
    },
    {
     "data": {
      "text/html": [
       "<table class=\"simpletable\">\n",
       "<caption>OLS Regression Results</caption>\n",
       "<tr>\n",
       "  <th>Dep. Variable:</th>          <td>price</td>      <th>  R-squared:         </th> <td>   0.699</td> \n",
       "</tr>\n",
       "<tr>\n",
       "  <th>Model:</th>                   <td>OLS</td>       <th>  Adj. R-squared:    </th> <td>   0.696</td> \n",
       "</tr>\n",
       "<tr>\n",
       "  <th>Method:</th>             <td>Least Squares</td>  <th>  F-statistic:       </th> <td>   242.4</td> \n",
       "</tr>\n",
       "<tr>\n",
       "  <th>Date:</th>             <td>Mon, 16 Dec 2019</td> <th>  Prob (F-statistic):</th>  <td>  0.00</td>  \n",
       "</tr>\n",
       "<tr>\n",
       "  <th>Time:</th>                 <td>13:15:03</td>     <th>  Log-Likelihood:    </th> <td> -27145.</td> \n",
       "</tr>\n",
       "<tr>\n",
       "  <th>No. Observations:</th>      <td>  2001</td>      <th>  AIC:               </th> <td>5.433e+04</td>\n",
       "</tr>\n",
       "<tr>\n",
       "  <th>Df Residuals:</th>          <td>  1981</td>      <th>  BIC:               </th> <td>5.444e+04</td>\n",
       "</tr>\n",
       "<tr>\n",
       "  <th>Df Model:</th>              <td>    19</td>      <th>                     </th>     <td> </td>    \n",
       "</tr>\n",
       "<tr>\n",
       "  <th>Covariance Type:</th>      <td>nonrobust</td>    <th>                     </th>     <td> </td>    \n",
       "</tr>\n",
       "</table>\n",
       "<table class=\"simpletable\">\n",
       "<tr>\n",
       "        <td></td>           <th>coef</th>     <th>std err</th>      <th>t</th>      <th>P>|t|</th>  <th>[0.025</th>    <th>0.975]</th>  \n",
       "</tr>\n",
       "<tr>\n",
       "  <th>const</th>         <td> 1.148e+07</td> <td> 9.15e+06</td> <td>    1.255</td> <td> 0.210</td> <td>-6.46e+06</td> <td> 2.94e+07</td>\n",
       "</tr>\n",
       "<tr>\n",
       "  <th>id</th>            <td>-4.419e-06</td> <td>  1.5e-06</td> <td>   -2.947</td> <td> 0.003</td> <td>-7.36e-06</td> <td>-1.48e-06</td>\n",
       "</tr>\n",
       "<tr>\n",
       "  <th>date</th>          <td> -161.3671</td> <td>  491.741</td> <td>   -0.328</td> <td> 0.743</td> <td>-1125.751</td> <td>  803.017</td>\n",
       "</tr>\n",
       "<tr>\n",
       "  <th>bedrooms</th>      <td>-1.983e+04</td> <td> 6018.376</td> <td>   -3.295</td> <td> 0.001</td> <td>-3.16e+04</td> <td>-8029.525</td>\n",
       "</tr>\n",
       "<tr>\n",
       "  <th>bathrooms</th>     <td> 3.835e+04</td> <td> 1.04e+04</td> <td>    3.692</td> <td> 0.000</td> <td>  1.8e+04</td> <td> 5.87e+04</td>\n",
       "</tr>\n",
       "<tr>\n",
       "  <th>sqft_living</th>   <td>   85.6820</td> <td>    7.038</td> <td>   12.175</td> <td> 0.000</td> <td>   71.880</td> <td>   99.484</td>\n",
       "</tr>\n",
       "<tr>\n",
       "  <th>sqft_lot</th>      <td>    0.1060</td> <td>    0.162</td> <td>    0.653</td> <td> 0.514</td> <td>   -0.213</td> <td>    0.425</td>\n",
       "</tr>\n",
       "<tr>\n",
       "  <th>floors</th>        <td>-9477.9284</td> <td> 1.21e+04</td> <td>   -0.783</td> <td> 0.434</td> <td>-3.32e+04</td> <td> 1.43e+04</td>\n",
       "</tr>\n",
       "<tr>\n",
       "  <th>waterfront</th>    <td> 4.207e+05</td> <td> 6.32e+04</td> <td>    6.652</td> <td> 0.000</td> <td> 2.97e+05</td> <td> 5.45e+05</td>\n",
       "</tr>\n",
       "<tr>\n",
       "  <th>view</th>          <td> 5.851e+04</td> <td> 6005.051</td> <td>    9.744</td> <td> 0.000</td> <td> 4.67e+04</td> <td> 7.03e+04</td>\n",
       "</tr>\n",
       "<tr>\n",
       "  <th>condition</th>     <td> 2.767e+04</td> <td> 6880.240</td> <td>    4.022</td> <td> 0.000</td> <td> 1.42e+04</td> <td> 4.12e+04</td>\n",
       "</tr>\n",
       "<tr>\n",
       "  <th>grade</th>         <td> 9.694e+04</td> <td> 6809.865</td> <td>   14.235</td> <td> 0.000</td> <td> 8.36e+04</td> <td>  1.1e+05</td>\n",
       "</tr>\n",
       "<tr>\n",
       "  <th>sqft_above</th>    <td>   60.4632</td> <td>    7.417</td> <td>    8.152</td> <td> 0.000</td> <td>   45.917</td> <td>   75.010</td>\n",
       "</tr>\n",
       "<tr>\n",
       "  <th>sqft_basement</th> <td>   25.2115</td> <td>    8.149</td> <td>    3.094</td> <td> 0.002</td> <td>    9.230</td> <td>   41.193</td>\n",
       "</tr>\n",
       "<tr>\n",
       "  <th>yr_built</th>      <td>-2463.6478</td> <td>  241.584</td> <td>  -10.198</td> <td> 0.000</td> <td>-2937.433</td> <td>-1989.863</td>\n",
       "</tr>\n",
       "<tr>\n",
       "  <th>yr_renovated</th>  <td>   34.6037</td> <td>   11.257</td> <td>    3.074</td> <td> 0.002</td> <td>   12.527</td> <td>   56.681</td>\n",
       "</tr>\n",
       "<tr>\n",
       "  <th>zipcode</th>       <td> -670.6600</td> <td>  102.125</td> <td>   -6.567</td> <td> 0.000</td> <td> -870.944</td> <td> -470.376</td>\n",
       "</tr>\n",
       "<tr>\n",
       "  <th>lat</th>           <td> 5.896e+05</td> <td> 3.41e+04</td> <td>   17.291</td> <td> 0.000</td> <td> 5.23e+05</td> <td> 6.56e+05</td>\n",
       "</tr>\n",
       "<tr>\n",
       "  <th>long</th>          <td>-2.489e+05</td> <td>  4.1e+04</td> <td>   -6.067</td> <td> 0.000</td> <td>-3.29e+05</td> <td>-1.68e+05</td>\n",
       "</tr>\n",
       "<tr>\n",
       "  <th>sqft_living15</th> <td>   54.1034</td> <td>   10.568</td> <td>    5.120</td> <td> 0.000</td> <td>   33.378</td> <td>   74.829</td>\n",
       "</tr>\n",
       "<tr>\n",
       "  <th>sqft_lot15</th>    <td>   -0.2394</td> <td>    0.219</td> <td>   -1.095</td> <td> 0.274</td> <td>   -0.668</td> <td>    0.189</td>\n",
       "</tr>\n",
       "</table>\n",
       "<table class=\"simpletable\">\n",
       "<tr>\n",
       "  <th>Omnibus:</th>       <td>1309.074</td> <th>  Durbin-Watson:     </th> <td>   2.000</td> \n",
       "</tr>\n",
       "<tr>\n",
       "  <th>Prob(Omnibus):</th>  <td> 0.000</td>  <th>  Jarque-Bera (JB):  </th> <td>38135.427</td>\n",
       "</tr>\n",
       "<tr>\n",
       "  <th>Skew:</th>           <td> 2.619</td>  <th>  Prob(JB):          </th> <td>    0.00</td> \n",
       "</tr>\n",
       "<tr>\n",
       "  <th>Kurtosis:</th>       <td>23.735</td>  <th>  Cond. No.          </th> <td>2.94e+22</td> \n",
       "</tr>\n",
       "</table><br/><br/>Warnings:<br/>[1] Standard Errors assume that the covariance matrix of the errors is correctly specified.<br/>[2] The smallest eigenvalue is 6.82e-23. This might indicate that there are<br/>strong multicollinearity problems or that the design matrix is singular."
      ],
      "text/plain": [
       "<class 'statsmodels.iolib.summary.Summary'>\n",
       "\"\"\"\n",
       "                            OLS Regression Results                            \n",
       "==============================================================================\n",
       "Dep. Variable:                  price   R-squared:                       0.699\n",
       "Model:                            OLS   Adj. R-squared:                  0.696\n",
       "Method:                 Least Squares   F-statistic:                     242.4\n",
       "Date:                Mon, 16 Dec 2019   Prob (F-statistic):               0.00\n",
       "Time:                        13:15:03   Log-Likelihood:                -27145.\n",
       "No. Observations:                2001   AIC:                         5.433e+04\n",
       "Df Residuals:                    1981   BIC:                         5.444e+04\n",
       "Df Model:                          19                                         \n",
       "Covariance Type:            nonrobust                                         \n",
       "=================================================================================\n",
       "                    coef    std err          t      P>|t|      [0.025      0.975]\n",
       "---------------------------------------------------------------------------------\n",
       "const          1.148e+07   9.15e+06      1.255      0.210   -6.46e+06    2.94e+07\n",
       "id            -4.419e-06    1.5e-06     -2.947      0.003   -7.36e-06   -1.48e-06\n",
       "date           -161.3671    491.741     -0.328      0.743   -1125.751     803.017\n",
       "bedrooms      -1.983e+04   6018.376     -3.295      0.001   -3.16e+04   -8029.525\n",
       "bathrooms      3.835e+04   1.04e+04      3.692      0.000     1.8e+04    5.87e+04\n",
       "sqft_living      85.6820      7.038     12.175      0.000      71.880      99.484\n",
       "sqft_lot          0.1060      0.162      0.653      0.514      -0.213       0.425\n",
       "floors        -9477.9284   1.21e+04     -0.783      0.434   -3.32e+04    1.43e+04\n",
       "waterfront     4.207e+05   6.32e+04      6.652      0.000    2.97e+05    5.45e+05\n",
       "view           5.851e+04   6005.051      9.744      0.000    4.67e+04    7.03e+04\n",
       "condition      2.767e+04   6880.240      4.022      0.000    1.42e+04    4.12e+04\n",
       "grade          9.694e+04   6809.865     14.235      0.000    8.36e+04     1.1e+05\n",
       "sqft_above       60.4632      7.417      8.152      0.000      45.917      75.010\n",
       "sqft_basement    25.2115      8.149      3.094      0.002       9.230      41.193\n",
       "yr_built      -2463.6478    241.584    -10.198      0.000   -2937.433   -1989.863\n",
       "yr_renovated     34.6037     11.257      3.074      0.002      12.527      56.681\n",
       "zipcode        -670.6600    102.125     -6.567      0.000    -870.944    -470.376\n",
       "lat            5.896e+05   3.41e+04     17.291      0.000    5.23e+05    6.56e+05\n",
       "long          -2.489e+05    4.1e+04     -6.067      0.000   -3.29e+05   -1.68e+05\n",
       "sqft_living15    54.1034     10.568      5.120      0.000      33.378      74.829\n",
       "sqft_lot15       -0.2394      0.219     -1.095      0.274      -0.668       0.189\n",
       "==============================================================================\n",
       "Omnibus:                     1309.074   Durbin-Watson:                   2.000\n",
       "Prob(Omnibus):                  0.000   Jarque-Bera (JB):            38135.427\n",
       "Skew:                           2.619   Prob(JB):                         0.00\n",
       "Kurtosis:                      23.735   Cond. No.                     2.94e+22\n",
       "==============================================================================\n",
       "\n",
       "Warnings:\n",
       "[1] Standard Errors assume that the covariance matrix of the errors is correctly specified.\n",
       "[2] The smallest eigenvalue is 6.82e-23. This might indicate that there are\n",
       "strong multicollinearity problems or that the design matrix is singular.\n",
       "\"\"\""
      ]
     },
     "execution_count": 28,
     "metadata": {},
     "output_type": "execute_result"
    }
   ],
   "source": [
    "X= sm.add_constant(X) \n",
    "model= sm.OLS(y, X).fit()\n",
    "model.summary()"
   ]
  },
  {
   "cell_type": "raw",
   "metadata": {},
   "source": [
    "the R2Square is 0.699.\n",
    "the R2Square is good."
   ]
  },
  {
   "cell_type": "code",
   "execution_count": 29,
   "metadata": {},
   "outputs": [
    {
     "data": {
      "text/html": [
       "<table class=\"simpletable\">\n",
       "<caption>OLS Regression Results</caption>\n",
       "<tr>\n",
       "  <th>Dep. Variable:</th>            <td>y</td>        <th>  R-squared:         </th> <td>   0.684</td> \n",
       "</tr>\n",
       "<tr>\n",
       "  <th>Model:</th>                   <td>OLS</td>       <th>  Adj. R-squared:    </th> <td>   0.680</td> \n",
       "</tr>\n",
       "<tr>\n",
       "  <th>Method:</th>             <td>Least Squares</td>  <th>  F-statistic:       </th> <td>   166.3</td> \n",
       "</tr>\n",
       "<tr>\n",
       "  <th>Date:</th>             <td>Mon, 16 Dec 2019</td> <th>  Prob (F-statistic):</th>  <td>  0.00</td>  \n",
       "</tr>\n",
       "<tr>\n",
       "  <th>Time:</th>                 <td>13:15:03</td>     <th>  Log-Likelihood:    </th> <td> -19018.</td> \n",
       "</tr>\n",
       "<tr>\n",
       "  <th>No. Observations:</th>      <td>  1400</td>      <th>  AIC:               </th> <td>3.807e+04</td>\n",
       "</tr>\n",
       "<tr>\n",
       "  <th>Df Residuals:</th>          <td>  1381</td>      <th>  BIC:               </th> <td>3.817e+04</td>\n",
       "</tr>\n",
       "<tr>\n",
       "  <th>Df Model:</th>              <td>    18</td>      <th>                     </th>     <td> </td>    \n",
       "</tr>\n",
       "<tr>\n",
       "  <th>Covariance Type:</th>      <td>nonrobust</td>    <th>                     </th>     <td> </td>    \n",
       "</tr>\n",
       "</table>\n",
       "<table class=\"simpletable\">\n",
       "<tr>\n",
       "        <td></td>           <th>coef</th>     <th>std err</th>      <th>t</th>      <th>P>|t|</th>  <th>[0.025</th>    <th>0.975]</th>  \n",
       "</tr>\n",
       "<tr>\n",
       "  <th>id</th>            <td>-2.926e-06</td> <td> 1.84e-06</td> <td>   -1.588</td> <td> 0.113</td> <td>-6.54e-06</td> <td> 6.89e-07</td>\n",
       "</tr>\n",
       "<tr>\n",
       "  <th>date</th>          <td> -574.0090</td> <td>  603.259</td> <td>   -0.952</td> <td> 0.342</td> <td>-1757.412</td> <td>  609.394</td>\n",
       "</tr>\n",
       "<tr>\n",
       "  <th>bedrooms</th>      <td> -1.86e+04</td> <td> 7453.074</td> <td>   -2.495</td> <td> 0.013</td> <td>-3.32e+04</td> <td>-3977.672</td>\n",
       "</tr>\n",
       "<tr>\n",
       "  <th>bathrooms</th>     <td>  3.64e+04</td> <td>  1.3e+04</td> <td>    2.791</td> <td> 0.005</td> <td> 1.08e+04</td> <td>  6.2e+04</td>\n",
       "</tr>\n",
       "<tr>\n",
       "  <th>sqft_living</th>   <td>   84.6736</td> <td>    8.369</td> <td>   10.118</td> <td> 0.000</td> <td>   68.257</td> <td>  101.090</td>\n",
       "</tr>\n",
       "<tr>\n",
       "  <th>sqft_lot</th>      <td>    0.1343</td> <td>    0.189</td> <td>    0.711</td> <td> 0.477</td> <td>   -0.236</td> <td>    0.505</td>\n",
       "</tr>\n",
       "<tr>\n",
       "  <th>floors</th>        <td>-2.322e+04</td> <td> 1.52e+04</td> <td>   -1.525</td> <td> 0.127</td> <td>-5.31e+04</td> <td> 6645.633</td>\n",
       "</tr>\n",
       "<tr>\n",
       "  <th>waterfront</th>    <td> 4.929e+05</td> <td>    9e+04</td> <td>    5.479</td> <td> 0.000</td> <td> 3.16e+05</td> <td> 6.69e+05</td>\n",
       "</tr>\n",
       "<tr>\n",
       "  <th>view</th>          <td> 5.967e+04</td> <td> 7483.174</td> <td>    7.974</td> <td> 0.000</td> <td>  4.5e+04</td> <td> 7.44e+04</td>\n",
       "</tr>\n",
       "<tr>\n",
       "  <th>condition</th>     <td> 2.776e+04</td> <td> 8255.018</td> <td>    3.363</td> <td> 0.001</td> <td> 1.16e+04</td> <td>  4.4e+04</td>\n",
       "</tr>\n",
       "<tr>\n",
       "  <th>grade</th>         <td> 9.474e+04</td> <td> 8504.783</td> <td>   11.139</td> <td> 0.000</td> <td> 7.81e+04</td> <td> 1.11e+05</td>\n",
       "</tr>\n",
       "<tr>\n",
       "  <th>sqft_above</th>    <td>   53.6932</td> <td>    9.377</td> <td>    5.726</td> <td> 0.000</td> <td>   35.298</td> <td>   72.088</td>\n",
       "</tr>\n",
       "<tr>\n",
       "  <th>sqft_basement</th> <td>   30.9805</td> <td>   10.102</td> <td>    3.067</td> <td> 0.002</td> <td>   11.163</td> <td>   50.798</td>\n",
       "</tr>\n",
       "<tr>\n",
       "  <th>yr_built</th>      <td>-2309.0925</td> <td>  279.892</td> <td>   -8.250</td> <td> 0.000</td> <td>-2858.151</td> <td>-1760.034</td>\n",
       "</tr>\n",
       "<tr>\n",
       "  <th>yr_renovated</th>  <td>   38.8745</td> <td>   14.221</td> <td>    2.734</td> <td> 0.006</td> <td>   10.977</td> <td>   66.772</td>\n",
       "</tr>\n",
       "<tr>\n",
       "  <th>zipcode</th>       <td> -510.4948</td> <td>   66.961</td> <td>   -7.624</td> <td> 0.000</td> <td> -641.850</td> <td> -379.139</td>\n",
       "</tr>\n",
       "<tr>\n",
       "  <th>lat</th>           <td> 5.696e+05</td> <td> 4.16e+04</td> <td>   13.692</td> <td> 0.000</td> <td> 4.88e+05</td> <td> 6.51e+05</td>\n",
       "</tr>\n",
       "<tr>\n",
       "  <th>long</th>          <td>-2.198e+05</td> <td> 4.78e+04</td> <td>   -4.597</td> <td> 0.000</td> <td>-3.14e+05</td> <td>-1.26e+05</td>\n",
       "</tr>\n",
       "<tr>\n",
       "  <th>sqft_living15</th> <td>   64.2054</td> <td>   12.898</td> <td>    4.978</td> <td> 0.000</td> <td>   38.904</td> <td>   89.507</td>\n",
       "</tr>\n",
       "<tr>\n",
       "  <th>sqft_lot15</th>    <td>   -0.2744</td> <td>    0.245</td> <td>   -1.118</td> <td> 0.264</td> <td>   -0.756</td> <td>    0.207</td>\n",
       "</tr>\n",
       "</table>\n",
       "<table class=\"simpletable\">\n",
       "<tr>\n",
       "  <th>Omnibus:</th>       <td>1055.164</td> <th>  Durbin-Watson:     </th> <td>   2.030</td> \n",
       "</tr>\n",
       "<tr>\n",
       "  <th>Prob(Omnibus):</th>  <td> 0.000</td>  <th>  Jarque-Bera (JB):  </th> <td>41385.925</td>\n",
       "</tr>\n",
       "<tr>\n",
       "  <th>Skew:</th>           <td> 3.085</td>  <th>  Prob(JB):          </th> <td>    0.00</td> \n",
       "</tr>\n",
       "<tr>\n",
       "  <th>Kurtosis:</th>       <td>28.912</td>  <th>  Cond. No.          </th> <td>1.27e+22</td> \n",
       "</tr>\n",
       "</table><br/><br/>Warnings:<br/>[1] Standard Errors assume that the covariance matrix of the errors is correctly specified.<br/>[2] The smallest eigenvalue is 2.58e-22. This might indicate that there are<br/>strong multicollinearity problems or that the design matrix is singular."
      ],
      "text/plain": [
       "<class 'statsmodels.iolib.summary.Summary'>\n",
       "\"\"\"\n",
       "                            OLS Regression Results                            \n",
       "==============================================================================\n",
       "Dep. Variable:                      y   R-squared:                       0.684\n",
       "Model:                            OLS   Adj. R-squared:                  0.680\n",
       "Method:                 Least Squares   F-statistic:                     166.3\n",
       "Date:                Mon, 16 Dec 2019   Prob (F-statistic):               0.00\n",
       "Time:                        13:15:03   Log-Likelihood:                -19018.\n",
       "No. Observations:                1400   AIC:                         3.807e+04\n",
       "Df Residuals:                    1381   BIC:                         3.817e+04\n",
       "Df Model:                          18                                         \n",
       "Covariance Type:            nonrobust                                         \n",
       "=================================================================================\n",
       "                    coef    std err          t      P>|t|      [0.025      0.975]\n",
       "---------------------------------------------------------------------------------\n",
       "id            -2.926e-06   1.84e-06     -1.588      0.113   -6.54e-06    6.89e-07\n",
       "date           -574.0090    603.259     -0.952      0.342   -1757.412     609.394\n",
       "bedrooms       -1.86e+04   7453.074     -2.495      0.013   -3.32e+04   -3977.672\n",
       "bathrooms       3.64e+04    1.3e+04      2.791      0.005    1.08e+04     6.2e+04\n",
       "sqft_living      84.6736      8.369     10.118      0.000      68.257     101.090\n",
       "sqft_lot          0.1343      0.189      0.711      0.477      -0.236       0.505\n",
       "floors        -2.322e+04   1.52e+04     -1.525      0.127   -5.31e+04    6645.633\n",
       "waterfront     4.929e+05      9e+04      5.479      0.000    3.16e+05    6.69e+05\n",
       "view           5.967e+04   7483.174      7.974      0.000     4.5e+04    7.44e+04\n",
       "condition      2.776e+04   8255.018      3.363      0.001    1.16e+04     4.4e+04\n",
       "grade          9.474e+04   8504.783     11.139      0.000    7.81e+04    1.11e+05\n",
       "sqft_above       53.6932      9.377      5.726      0.000      35.298      72.088\n",
       "sqft_basement    30.9805     10.102      3.067      0.002      11.163      50.798\n",
       "yr_built      -2309.0925    279.892     -8.250      0.000   -2858.151   -1760.034\n",
       "yr_renovated     38.8745     14.221      2.734      0.006      10.977      66.772\n",
       "zipcode        -510.4948     66.961     -7.624      0.000    -641.850    -379.139\n",
       "lat            5.696e+05   4.16e+04     13.692      0.000    4.88e+05    6.51e+05\n",
       "long          -2.198e+05   4.78e+04     -4.597      0.000   -3.14e+05   -1.26e+05\n",
       "sqft_living15    64.2054     12.898      4.978      0.000      38.904      89.507\n",
       "sqft_lot15       -0.2744      0.245     -1.118      0.264      -0.756       0.207\n",
       "==============================================================================\n",
       "Omnibus:                     1055.164   Durbin-Watson:                   2.030\n",
       "Prob(Omnibus):                  0.000   Jarque-Bera (JB):            41385.925\n",
       "Skew:                           3.085   Prob(JB):                         0.00\n",
       "Kurtosis:                      28.912   Cond. No.                     1.27e+22\n",
       "==============================================================================\n",
       "\n",
       "Warnings:\n",
       "[1] Standard Errors assume that the covariance matrix of the errors is correctly specified.\n",
       "[2] The smallest eigenvalue is 2.58e-22. This might indicate that there are\n",
       "strong multicollinearity problems or that the design matrix is singular.\n",
       "\"\"\""
      ]
     },
     "execution_count": 29,
     "metadata": {},
     "output_type": "execute_result"
    }
   ],
   "source": [
    "y_train=np.array(y_train).reshape(-1,1)\n",
    "y_test=np.array(y_test).reshape(-1,1)\n",
    "model=sm.OLS(y_train,X_train).fit()\n",
    "prediction=model.predict(X_test)\n",
    "model.summary()"
   ]
  },
  {
   "cell_type": "raw",
   "metadata": {},
   "source": [
    "here we have done prediction on test data"
   ]
  },
  {
   "cell_type": "code",
   "execution_count": 30,
   "metadata": {},
   "outputs": [
    {
     "name": "stderr",
     "output_type": "stream",
     "text": [
      "C:\\Users\\Shubham\\Anaconda3\\lib\\site-packages\\statsmodels\\regression\\linear_model.py:1543: RuntimeWarning: divide by zero encountered in double_scalars\n",
      "  return 1 - self.ssr/self.centered_tss\n",
      "C:\\Users\\Shubham\\Anaconda3\\lib\\site-packages\\statsmodels\\stats\\outliers_influence.py:181: RuntimeWarning: divide by zero encountered in double_scalars\n",
      "  vif = 1. / (1. - r_squared_i)\n"
     ]
    }
   ],
   "source": [
    "from statsmodels.stats.outliers_influence import variance_inflation_factor\n",
    "vif=[variance_inflation_factor(X.values,j) for j in range(0,(X.shape[1]))]"
   ]
  },
  {
   "cell_type": "code",
   "execution_count": 31,
   "metadata": {},
   "outputs": [
    {
     "data": {
      "text/html": [
       "<div>\n",
       "<style scoped>\n",
       "    .dataframe tbody tr th:only-of-type {\n",
       "        vertical-align: middle;\n",
       "    }\n",
       "\n",
       "    .dataframe tbody tr th {\n",
       "        vertical-align: top;\n",
       "    }\n",
       "\n",
       "    .dataframe thead th {\n",
       "        text-align: right;\n",
       "    }\n",
       "</style>\n",
       "<table border=\"1\" class=\"dataframe\">\n",
       "  <thead>\n",
       "    <tr style=\"text-align: right;\">\n",
       "      <th></th>\n",
       "      <th>Column_Names</th>\n",
       "      <th>VIF</th>\n",
       "    </tr>\n",
       "  </thead>\n",
       "  <tbody>\n",
       "    <tr>\n",
       "      <th>0</th>\n",
       "      <td>const</td>\n",
       "      <td>0.000000</td>\n",
       "    </tr>\n",
       "    <tr>\n",
       "      <th>1</th>\n",
       "      <td>id</td>\n",
       "      <td>1.045901</td>\n",
       "    </tr>\n",
       "    <tr>\n",
       "      <th>2</th>\n",
       "      <td>date</td>\n",
       "      <td>1.007429</td>\n",
       "    </tr>\n",
       "    <tr>\n",
       "      <th>3</th>\n",
       "      <td>bedrooms</td>\n",
       "      <td>1.657456</td>\n",
       "    </tr>\n",
       "    <tr>\n",
       "      <th>4</th>\n",
       "      <td>bathrooms</td>\n",
       "      <td>3.415477</td>\n",
       "    </tr>\n",
       "    <tr>\n",
       "      <th>5</th>\n",
       "      <td>sqft_living</td>\n",
       "      <td>inf</td>\n",
       "    </tr>\n",
       "    <tr>\n",
       "      <th>6</th>\n",
       "      <td>sqft_lot</td>\n",
       "      <td>3.279648</td>\n",
       "    </tr>\n",
       "    <tr>\n",
       "      <th>7</th>\n",
       "      <td>floors</td>\n",
       "      <td>2.053588</td>\n",
       "    </tr>\n",
       "    <tr>\n",
       "      <th>8</th>\n",
       "      <td>waterfront</td>\n",
       "      <td>1.109536</td>\n",
       "    </tr>\n",
       "    <tr>\n",
       "      <th>9</th>\n",
       "      <td>view</td>\n",
       "      <td>1.312335</td>\n",
       "    </tr>\n",
       "    <tr>\n",
       "      <th>10</th>\n",
       "      <td>condition</td>\n",
       "      <td>1.215559</td>\n",
       "    </tr>\n",
       "    <tr>\n",
       "      <th>11</th>\n",
       "      <td>grade</td>\n",
       "      <td>3.447568</td>\n",
       "    </tr>\n",
       "    <tr>\n",
       "      <th>12</th>\n",
       "      <td>sqft_above</td>\n",
       "      <td>inf</td>\n",
       "    </tr>\n",
       "    <tr>\n",
       "      <th>13</th>\n",
       "      <td>sqft_basement</td>\n",
       "      <td>inf</td>\n",
       "    </tr>\n",
       "    <tr>\n",
       "      <th>14</th>\n",
       "      <td>yr_built</td>\n",
       "      <td>2.531605</td>\n",
       "    </tr>\n",
       "    <tr>\n",
       "      <th>15</th>\n",
       "      <td>yr_renovated</td>\n",
       "      <td>1.142434</td>\n",
       "    </tr>\n",
       "    <tr>\n",
       "      <th>16</th>\n",
       "      <td>zipcode</td>\n",
       "      <td>1.684207</td>\n",
       "    </tr>\n",
       "    <tr>\n",
       "      <th>17</th>\n",
       "      <td>lat</td>\n",
       "      <td>1.226506</td>\n",
       "    </tr>\n",
       "    <tr>\n",
       "      <th>18</th>\n",
       "      <td>long</td>\n",
       "      <td>1.887910</td>\n",
       "    </tr>\n",
       "    <tr>\n",
       "      <th>19</th>\n",
       "      <td>sqft_living15</td>\n",
       "      <td>2.824018</td>\n",
       "    </tr>\n",
       "    <tr>\n",
       "      <th>20</th>\n",
       "      <td>sqft_lot15</td>\n",
       "      <td>3.304546</td>\n",
       "    </tr>\n",
       "  </tbody>\n",
       "</table>\n",
       "</div>"
      ],
      "text/plain": [
       "     Column_Names       VIF\n",
       "0           const  0.000000\n",
       "1              id  1.045901\n",
       "2            date  1.007429\n",
       "3        bedrooms  1.657456\n",
       "4       bathrooms  3.415477\n",
       "5     sqft_living       inf\n",
       "6        sqft_lot  3.279648\n",
       "7          floors  2.053588\n",
       "8      waterfront  1.109536\n",
       "9            view  1.312335\n",
       "10      condition  1.215559\n",
       "11          grade  3.447568\n",
       "12     sqft_above       inf\n",
       "13  sqft_basement       inf\n",
       "14       yr_built  2.531605\n",
       "15   yr_renovated  1.142434\n",
       "16        zipcode  1.684207\n",
       "17            lat  1.226506\n",
       "18           long  1.887910\n",
       "19  sqft_living15  2.824018\n",
       "20     sqft_lot15  3.304546"
      ]
     },
     "execution_count": 31,
     "metadata": {},
     "output_type": "execute_result"
    }
   ],
   "source": [
    "pd.DataFrame({'Column_Names':X.columns,'VIF':vif})"
   ]
  },
  {
   "cell_type": "raw",
   "metadata": {},
   "source": [
    "multi-collinearity check have been performed"
   ]
  },
  {
   "cell_type": "markdown",
   "metadata": {},
   "source": [
    "# 7."
   ]
  },
  {
   "cell_type": "code",
   "execution_count": 32,
   "metadata": {},
   "outputs": [],
   "source": [
    "reg=LinearRegression()"
   ]
  },
  {
   "cell_type": "code",
   "execution_count": 33,
   "metadata": {},
   "outputs": [
    {
     "data": {
      "text/plain": [
       "LinearRegression(copy_X=True, fit_intercept=True, n_jobs=None, normalize=False)"
      ]
     },
     "execution_count": 33,
     "metadata": {},
     "output_type": "execute_result"
    }
   ],
   "source": [
    "reg.fit(X_train,y_train)"
   ]
  },
  {
   "cell_type": "code",
   "execution_count": 34,
   "metadata": {},
   "outputs": [
    {
     "data": {
      "text/plain": [
       "0.726862659360723"
      ]
     },
     "execution_count": 34,
     "metadata": {},
     "output_type": "execute_result"
    }
   ],
   "source": [
    "reg.score(X_test,y_test)"
   ]
  },
  {
   "cell_type": "raw",
   "metadata": {},
   "source": [
    "We have train data on 70 and test on 30.\n",
    "As we have fit the model our accuracy score is 72 which is less than the given target.\n",
    "Now we will re fit the model using gradient boosting regression.\n",
    "which produces a prediction model in the form of an ensemble of weak prediction models, typically decision trees."
   ]
  },
  {
   "cell_type": "code",
   "execution_count": 37,
   "metadata": {},
   "outputs": [],
   "source": [
    "from sklearn import ensemble"
   ]
  },
  {
   "cell_type": "code",
   "execution_count": 38,
   "metadata": {},
   "outputs": [],
   "source": [
    "clf=ensemble.GradientBoostingRegressor(n_estimators=400,max_depth=5,min_samples_split=2,\n",
    "                                      learning_rate=0.1,loss='ls')"
   ]
  },
  {
   "cell_type": "code",
   "execution_count": 39,
   "metadata": {},
   "outputs": [
    {
     "name": "stderr",
     "output_type": "stream",
     "text": [
      "C:\\Users\\Shubham\\Anaconda3\\lib\\site-packages\\sklearn\\ensemble\\gradient_boosting.py:1450: DataConversionWarning: A column-vector y was passed when a 1d array was expected. Please change the shape of y to (n_samples, ), for example using ravel().\n",
      "  y = column_or_1d(y, warn=True)\n"
     ]
    },
    {
     "data": {
      "text/plain": [
       "GradientBoostingRegressor(alpha=0.9, criterion='friedman_mse', init=None,\n",
       "                          learning_rate=0.1, loss='ls', max_depth=5,\n",
       "                          max_features=None, max_leaf_nodes=None,\n",
       "                          min_impurity_decrease=0.0, min_impurity_split=None,\n",
       "                          min_samples_leaf=1, min_samples_split=2,\n",
       "                          min_weight_fraction_leaf=0.0, n_estimators=400,\n",
       "                          n_iter_no_change=None, presort='auto',\n",
       "                          random_state=None, subsample=1.0, tol=0.0001,\n",
       "                          validation_fraction=0.1, verbose=0, warm_start=False)"
      ]
     },
     "execution_count": 39,
     "metadata": {},
     "output_type": "execute_result"
    }
   ],
   "source": [
    "clf.fit(X_train,y_train)"
   ]
  },
  {
   "cell_type": "code",
   "execution_count": 40,
   "metadata": {},
   "outputs": [
    {
     "data": {
      "text/plain": [
       "0.8119919523969124"
      ]
     },
     "execution_count": 40,
     "metadata": {},
     "output_type": "execute_result"
    }
   ],
   "source": [
    "clf.score(X_test,y_test)"
   ]
  },
  {
   "cell_type": "raw",
   "metadata": {},
   "source": [
    "after applying GradientBoostingRegressor the accuracy is quite good.\n",
    "the target given is achieved \n",
    "the accuracy score is 81"
   ]
  },
  {
   "cell_type": "markdown",
   "metadata": {},
   "source": [
    "# 8.Summarizing"
   ]
  },
  {
   "cell_type": "code",
   "execution_count": 41,
   "metadata": {},
   "outputs": [],
   "source": [
    "models = [\n",
    "    SGDRegressor(max_iter=1000, tol=1e-3),\n",
    "    Lasso(alpha=0.1),\n",
    "    ElasticNet(random_state=0),\n",
    "    Ridge(alpha=.5),\n",
    "    SVR(gamma='auto', kernel='linear'),\n",
    "    SVR(gamma='auto', kernel='rbf'),\n",
    "    BaggingRegressor(),\n",
    "    BaggingRegressor(KNeighborsClassifier(), max_samples=0.5, max_features=0.5),\n",
    "    NuSVR(gamma='auto'),\n",
    "    RandomForestRegressor( random_state=0, n_estimators=300)\n",
    "]"
   ]
  },
  {
   "cell_type": "raw",
   "metadata": {},
   "source": [
    "2.The model built on polynomial was successfully able to perform better.Thus it can help in predicting the price of house of the given city and the feature that contributed was sqft_living,sqft_living15.Thus this will be crucial in deciding the price of the house\n",
    "3.Doing polynomial transformation for the input of base model helped to perform base model better\n",
    "4.The risk involved in use of the model is that it would only be able to predict price of the home in washington.\n",
    "​"
   ]
  },
  {
   "cell_type": "code",
   "execution_count": null,
   "metadata": {},
   "outputs": [],
   "source": []
  },
  {
   "cell_type": "code",
   "execution_count": null,
   "metadata": {},
   "outputs": [],
   "source": []
  }
 ],
 "metadata": {
  "kernelspec": {
   "display_name": "Python 3",
   "language": "python",
   "name": "python3"
  },
  "language_info": {
   "codemirror_mode": {
    "name": "ipython",
    "version": 3
   },
   "file_extension": ".py",
   "mimetype": "text/x-python",
   "name": "python",
   "nbconvert_exporter": "python",
   "pygments_lexer": "ipython3",
   "version": "3.7.3"
  }
 },
 "nbformat": 4,
 "nbformat_minor": 2
}
